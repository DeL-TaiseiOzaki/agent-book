{
  "cells": [
    {
      "cell_type": "code",
      "execution_count": null,
      "metadata": {
        "collapsed": true,
        "id": "jvdlQ_2RHCTe"
      },
      "outputs": [],
      "source": [
        "!pip install langgraph==0.2.23 langgraph-checkpoint==1.0.10 langchain_core==0.3.0 httpx==0.27.2"
      ]
    },
    {
      "cell_type": "code",
      "execution_count": null,
      "metadata": {
        "id": "S501g4ulHMNu"
      },
      "outputs": [],
      "source": [
        "from typing import Any, Optional\n",
        "from pydantic import BaseModel\n",
        "\n",
        "# グラフの状態を定義\n",
        "class State(BaseModel):\n",
        "    count: Optional[int]\n",
        "    message: str\n",
        "\n",
        "# 簡単なノード関数を定義\n",
        "def increment_count(state: State) -> dict[str, Any]:\n",
        "    if state.count is None:\n",
        "        state.count = 0\n",
        "    return {\"count\": state.count + 1}\n",
        "\n",
        "def update_message(state: State) -> dict[str, Any]:\n",
        "    return {\"message\": f\"カウントは {state.count}\"}"
      ]
    },
    {
      "cell_type": "code",
      "execution_count": null,
      "metadata": {
        "id": "x7Xh2p70LJAp"
      },
      "outputs": [],
      "source": [
        "import json\n",
        "from langchain_core.runnables import RunnableConfig\n",
        "from langgraph.checkpoint.base import BaseCheckpointSaver\n",
        "\n",
        "def print_checkpoint_dump(checkpointer: BaseCheckpointSaver, config: RunnableConfig):\n",
        "    checkpoint_tuple = checkpointer.get_tuple(config)\n",
        "    checkpoint = checkpoint_tuple.checkpoint\n",
        "    metadata = checkpoint_tuple.metadata\n",
        "\n",
        "    print(\"チェックポイントデータ:\")\n",
        "    print(json.dumps(checkpoint, indent=2, ensure_ascii=False))\n",
        "    print(\"\\nメタデータ:\")\n",
        "    print(json.dumps(metadata, indent=2, ensure_ascii=False))"
      ]
    },
    {
      "cell_type": "code",
      "execution_count": null,
      "metadata": {
        "id": "XOstJGTgH1G7"
      },
      "outputs": [],
      "source": [
        "from langgraph.graph import StateGraph\n",
        "from langgraph.checkpoint.memory import MemorySaver\n",
        "\n",
        "# グラフを設定\n",
        "graph = StateGraph(State)\n",
        "graph.add_node(\"increment\", increment_count)\n",
        "graph.add_node(\"update\", update_message)\n",
        "\n",
        "graph.set_entry_point(\"increment\")\n",
        "graph.add_edge(\"increment\", \"update\")\n",
        "graph.add_edge(\"update\", \"increment\")\n",
        "\n",
        "# チェックポインターを設定\n",
        "checkpointer = MemorySaver()\n",
        "\n",
        "# グラフをコンパイル\n",
        "compiled_graph = graph.compile(checkpointer=checkpointer, interrupt_after=[\"update\"])"
      ]
    },
    {
      "cell_type": "code",
      "execution_count": null,
      "metadata": {
        "id": "nzPZu1XZH3rK"
      },
      "outputs": [],
      "source": [
        "# グラフを実行\n",
        "config = {\"configurable\": {\"thread_id\": \"example-thread\"}}\n",
        "initial_state = State(count=0, message=\"initial\")\n",
        "first_state = compiled_graph.invoke(initial_state, config)\n",
        "first_state"
      ]
    },
    {
      "cell_type": "code",
      "execution_count": null,
      "metadata": {
        "id": "kNYC0vlQXCVl"
      },
      "outputs": [],
      "source": [
        "for checkpoint_tuple in checkpointer.list({\"configurable\": {\"thread_id\": \"example-thread\"}}):\n",
        "    print(checkpoint_tuple.checkpoint[\"channel_values\"])"
      ]
    },
    {
      "cell_type": "code",
      "execution_count": null,
      "metadata": {
        "id": "j6hAAiTQKU07"
      },
      "outputs": [],
      "source": [
        "# チェックポイントデータを取得\n",
        "print_checkpoint_dump(checkpointer, config)"
      ]
    },
    {
      "cell_type": "code",
      "execution_count": null,
      "metadata": {
        "id": "HbLIaeL9JMZu"
      },
      "outputs": [],
      "source": [
        "second_state = compiled_graph.invoke(None, config)\n",
        "second_state"
      ]
    },
    {
      "cell_type": "code",
      "execution_count": null,
      "metadata": {
        "id": "-krCLphRXG_b"
      },
      "outputs": [],
      "source": [
        "for checkpoint_tuple in checkpointer.list({\"configurable\": {\"thread_id\": \"example-thread\"}}):\n",
        "    print(checkpoint_tuple.checkpoint['channel_values'])"
      ]
    },
    {
      "cell_type": "code",
      "execution_count": null,
      "metadata": {
        "id": "sAaXQiWbIA4l"
      },
      "outputs": [],
      "source": [
        "# チェックポイントデータを取得\n",
        "print_checkpoint_dump(checkpointer, config)"
      ]
    },
    {
      "cell_type": "code",
      "execution_count": null,
      "metadata": {
        "id": "s_qRrgYfmCL7"
      },
      "outputs": [],
      "source": []
    }
  ],
  "metadata": {
    "colab": {
      "provenance": []
    },
    "kernelspec": {
      "display_name": "Python 3",
      "name": "python3"
    },
    "language_info": {
      "name": "python"
    }
  },
  "nbformat": 4,
  "nbformat_minor": 0
}
